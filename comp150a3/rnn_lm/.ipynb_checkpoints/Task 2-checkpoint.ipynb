{
 "cells": [
  {
   "cell_type": "code",
   "execution_count": 114,
   "metadata": {},
   "outputs": [
    {
     "name": "stdout",
     "output_type": "stream",
     "text": [
      "The autoreload extension is already loaded. To reload it, use:\n",
      "  %reload_ext autoreload\n"
     ]
    }
   ],
   "source": [
    "# As usual, a bit of setup\n",
    "import time\n",
    "import numpy as np\n",
    "import tensorflow as tf\n",
    "import matplotlib.pyplot as plt\n",
    "\n",
    "\n",
    "%matplotlib inline\n",
    "plt.rcParams['figure.figsize'] = (10.0, 8.0) # set default size of plots\n",
    "plt.rcParams['image.interpolation'] = 'nearest'\n",
    "plt.rcParams['image.cmap'] = 'gray'\n",
    "\n",
    "# for auto-reloading exroternal modules\n",
    "# see http://stackoverflow.com/questions/1907993/autoreload-of-modules-in-ipython\n",
    "%load_ext autoreload\n",
    "%autoreload 2\n",
    "\n",
    "from q3_RNNLM import *"
   ]
  },
  {
   "cell_type": "markdown",
   "metadata": {},
   "source": [
    "# Running the Final Model"
   ]
  },
  {
   "cell_type": "code",
   "execution_count": 147,
   "metadata": {
    "scrolled": false
   },
   "outputs": [
    {
     "name": "stdout",
     "output_type": "stream",
     "text": [
      "929589.0 total words with 10000 uniques\n",
      "929589.0 total words with 10000 uniques\n",
      "Epoch 0\n",
      "Training perplexity: 467.6376037597656\n",
      "Validation perplexity: 289.06573486328125\n",
      "Total time: 17.174071311950684\n",
      "Epoch 1\n",
      "Training perplexity: 237.09164428710938\n",
      "Validation perplexity: 212.89657592773438\n",
      "Total time: 17.509174823760986\n",
      "Epoch 2\n",
      "Training perplexity: 182.98269653320312\n",
      "Validation perplexity: 181.60520935058594\n",
      "Total time: 16.92972421646118\n",
      "Epoch 3\n",
      "Training perplexity: 154.789794921875\n",
      "Validation perplexity: 165.90191650390625\n",
      "Total time: 16.649473905563354\n",
      "Epoch 4\n",
      "Training perplexity: 136.9542236328125\n",
      "Validation perplexity: 155.64813232421875\n",
      "Total time: 17.014497756958008\n",
      "Epoch 5\n",
      "Training perplexity: 124.54450988769531\n",
      "Validation perplexity: 149.719970703125\n",
      "Total time: 16.758183002471924\n",
      "Epoch 6\n",
      "Training perplexity: 115.26555633544922\n",
      "Validation perplexity: 145.48056030273438\n",
      "Total time: 16.539767265319824\n",
      "Epoch 7\n",
      "Training perplexity: 107.82228088378906\n",
      "Validation perplexity: 141.95249938964844\n",
      "Total time: 16.948673486709595\n",
      "Epoch 8\n",
      "Training perplexity: 101.83666229248047\n",
      "Validation perplexity: 139.7904510498047\n",
      "Total time: 17.073339700698853\n",
      "Epoch 9\n",
      "Training perplexity: 96.89061737060547\n",
      "Validation perplexity: 138.23367309570312\n",
      "Total time: 16.914764404296875\n",
      "Epoch 10\n",
      "Training perplexity: 92.6684341430664\n",
      "Validation perplexity: 137.10202026367188\n",
      "Total time: 17.11223530769348\n",
      "Epoch 11\n",
      "Training perplexity: 89.13345336914062\n",
      "Validation perplexity: 136.18280029296875\n",
      "Total time: 18.168486833572388\n",
      "Epoch 12\n",
      "Training perplexity: 86.03854370117188\n",
      "Validation perplexity: 136.1054229736328\n",
      "Total time: 17.760778427124023\n",
      "Epoch 13\n",
      "Training perplexity: 83.37432098388672\n",
      "Validation perplexity: 135.13983154296875\n",
      "Total time: 17.5199134349823\n",
      "Epoch 14\n",
      "Training perplexity: 81.03960418701172\n",
      "Validation perplexity: 135.4987335205078\n",
      "Total time: 17.121501684188843\n",
      "Epoch 15\n",
      "Training perplexity: 78.92498779296875\n",
      "Validation perplexity: 135.07244873046875\n",
      "Total time: 17.703442096710205\n",
      "Epoch 16\n",
      "Training perplexity: 77.07970428466797\n",
      "Validation perplexity: 135.52450561523438\n",
      "Total time: 16.21398687362671\n",
      "Epoch 17\n",
      "Training perplexity: 75.35388946533203\n",
      "Validation perplexity: 135.6739959716797\n",
      "Total time: 16.15951418876648\n",
      "Epoch 18\n",
      "Training perplexity: 73.81407165527344\n",
      "Validation perplexity: 136.0308074951172\n",
      "INFO:tensorflow:Restoring parameters from ptb_rnnlm.weights\n",
      "=-==-==-==-==-== 126.20983886718751\n",
      "Test perplexity: 126.08154296875\n",
      "=-==-==-==-==-=\n",
      "\n",
      "\n",
      "in boston which is give the new role in the letter of motorola 's system is <unk> to like <unk> <eos>\n",
      "\n",
      "\n",
      "they have had other clothes <eos>\n",
      "\n",
      "\n",
      "please exist and there is n't appropriate for imports for commissions <eos>\n",
      "\n",
      "\n",
      "today stem by continued from cold fusion anyone with start with <unk> tv positions <eos>\n",
      "\n",
      "\n",
      "the president bush was having used the fat climate of gaf a staff cut in percentage of the <unk> at a <unk> of social security <eos>\n",
      "\n",
      "\n",
      "in winter days he advises raises an <unk> plant on monday 's and said <eos>\n",
      "\n",
      "\n",
      "i want to gift payments <eos>\n",
      "\n",
      "\n",
      "look at risk with offsetting trades close to our <unk> new post as it is the <unk> because of language <eos>\n",
      "\n",
      "\n",
      "come to settle a basket we 've think that we happen as many they ca n't lose the <unk> because of an expensive space <eos>\n",
      "\n",
      "\n",
      "he said they 'd n't transferred to comprehensive care <eos>\n"
     ]
    }
   ],
   "source": [
    "test_RNNLM()"
   ]
  },
  {
   "cell_type": "code",
   "execution_count": null,
   "metadata": {},
   "outputs": [],
   "source": []
  }
 ],
 "metadata": {
  "kernelspec": {
   "display_name": "Python 3",
   "language": "python",
   "name": "python3"
  },
  "language_info": {
   "codemirror_mode": {
    "name": "ipython",
    "version": 3
   },
   "file_extension": ".py",
   "mimetype": "text/x-python",
   "name": "python",
   "nbconvert_exporter": "python",
   "pygments_lexer": "ipython3",
   "version": "3.6.8"
  }
 },
 "nbformat": 4,
 "nbformat_minor": 2
}
